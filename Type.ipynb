{
  "nbformat": 4,
  "nbformat_minor": 0,
  "metadata": {
    "colab": {
      "provenance": [],
      "authorship_tag": "ABX9TyPxWnBWb4PykaYweEtAoU+C",
      "include_colab_link": true
    },
    "kernelspec": {
      "name": "python3",
      "display_name": "Python 3"
    }
  },
  "cells": [
    {
      "cell_type": "markdown",
      "metadata": {
        "id": "view-in-github",
        "colab_type": "text"
      },
      "source": [
        "<a href=\"https://colab.research.google.com/github/Vidukln/Crime-Prediction/blob/main/Type.ipynb\" target=\"_parent\"><img src=\"https://colab.research.google.com/assets/colab-badge.svg\" alt=\"Open In Colab\"/></a>"
      ]
    },
    {
      "cell_type": "code",
      "metadata": {
        "id": "Wo280yAGFRmf"
      },
      "source": [
        "import pandas as pd\n",
        "from sklearn import preprocessing\n",
        "from sklearn.preprocessing import MinMaxScaler\n",
        "from sklearn.model_selection import train_test_split\n",
        "import matplotlib.pyplot as plt\n",
        "import tensorflow as tf\n",
        "from tensorflow import keras\n",
        "from tensorflow.keras import layers\n",
        "from tensorflow.keras import activations\n",
        "import numpy as np\n",
        "from tensorflow import feature_column\n",
        "from sklearn.model_selection import train_test_split\n",
        "from sklearn.preprocessing import StandardScaler\n",
        "from sklearn.ensemble import RandomForestRegressor\n",
        "from sklearn.metrics import classification_report, confusion_matrix, accuracy_score\n",
        "from sklearn.ensemble import RandomForestClassifier\n",
        "from sklearn.model_selection import cross_val_score\n",
        "from sklearn import metrics\n",
        "from joblib import dump, load\n",
        "import matplotlib.pyplot as plt\n",
        "import seaborn as sn\n",
        "import tkinter as tk\n",
        "import pandas as pd\n",
        "from sklearn import preprocessing\n",
        "from sklearn.preprocessing import MinMaxScaler\n",
        "from sklearn.model_selection import train_test_split\n",
        "import matplotlib.pyplot as plt\n",
        "import tensorflow as tf\n",
        "from tensorflow import keras\n",
        "from tensorflow.keras import layers\n",
        "from tensorflow.keras import activations\n",
        "import numpy as np\n",
        "from tensorflow import feature_column\n",
        "import pickle\n",
        "import joblib\n",
        "from joblib import dump,load\n",
        "import pickle\n",
        "import tempfile\n",
        "from tensorflow.keras.models import Sequential, load_model, save_model, Model\n",
        "from tensorflow.keras.layers import Dense\n",
        "from tensorflow.python.keras.layers import deserialize, serialize\n",
        "from tensorflow.python.keras.saving import saving_utils\n",
        "from sklearn import model_selection\n",
        "from sklearn.ensemble import BaggingClassifier\n",
        "from sklearn.tree import DecisionTreeClassifier"
      ],
      "execution_count": null,
      "outputs": []
    },
    {
      "cell_type": "code",
      "metadata": {
        "id": "FvDgafp1Fbvp"
      },
      "source": [
        "names = ['DATE','MONTH','YEAR','TIME','AREA','NEAR TO MAIN ROAD OR NOT','NEAR TO COMMERCIAL CENTRE OR NOT','POPULATION OF AREA','KNOWLEDGE OF HOUSE OWNER','TYPE']\n",
        "\n",
        "df = pd.read_csv('Type.csv')"
      ],
      "execution_count": null,
      "outputs": []
    },
    {
      "cell_type": "code",
      "metadata": {
        "colab": {
          "base_uri": "https://localhost:8080/",
          "height": 418
        },
        "id": "T2YtaaucJbER",
        "outputId": "c09ef9f4-96e5-406b-ff47-dca2235096e4"
      },
      "source": [
        "df"
      ],
      "execution_count": null,
      "outputs": [
        {
          "output_type": "execute_result",
          "data": {
            "text/html": [
              "<div>\n",
              "<style scoped>\n",
              "    .dataframe tbody tr th:only-of-type {\n",
              "        vertical-align: middle;\n",
              "    }\n",
              "\n",
              "    .dataframe tbody tr th {\n",
              "        vertical-align: top;\n",
              "    }\n",
              "\n",
              "    .dataframe thead th {\n",
              "        text-align: right;\n",
              "    }\n",
              "</style>\n",
              "<table border=\"1\" class=\"dataframe\">\n",
              "  <thead>\n",
              "    <tr style=\"text-align: right;\">\n",
              "      <th></th>\n",
              "      <th>DATE</th>\n",
              "      <th>MONTH</th>\n",
              "      <th>YEAR</th>\n",
              "      <th>TIME</th>\n",
              "      <th>AREA</th>\n",
              "      <th>NEAR TO MAIN ROAD OR NOT</th>\n",
              "      <th>NEAR TO COMMERCIAL CENTRE OR NOT</th>\n",
              "      <th>POPULATION OF AREA</th>\n",
              "      <th>KNOWLEDGE OF HOUSE OWNER</th>\n",
              "      <th>TYPE</th>\n",
              "    </tr>\n",
              "  </thead>\n",
              "  <tbody>\n",
              "    <tr>\n",
              "      <th>0</th>\n",
              "      <td>22</td>\n",
              "      <td>6</td>\n",
              "      <td>2013</td>\n",
              "      <td>22</td>\n",
              "      <td>7</td>\n",
              "      <td>0</td>\n",
              "      <td>1</td>\n",
              "      <td>62030</td>\n",
              "      <td>2</td>\n",
              "      <td>6</td>\n",
              "    </tr>\n",
              "    <tr>\n",
              "      <th>1</th>\n",
              "      <td>5</td>\n",
              "      <td>7</td>\n",
              "      <td>2013</td>\n",
              "      <td>19</td>\n",
              "      <td>7</td>\n",
              "      <td>1</td>\n",
              "      <td>0</td>\n",
              "      <td>62030</td>\n",
              "      <td>3</td>\n",
              "      <td>6</td>\n",
              "    </tr>\n",
              "    <tr>\n",
              "      <th>2</th>\n",
              "      <td>31</td>\n",
              "      <td>7</td>\n",
              "      <td>2013</td>\n",
              "      <td>21</td>\n",
              "      <td>7</td>\n",
              "      <td>0</td>\n",
              "      <td>0</td>\n",
              "      <td>62030</td>\n",
              "      <td>3</td>\n",
              "      <td>6</td>\n",
              "    </tr>\n",
              "    <tr>\n",
              "      <th>3</th>\n",
              "      <td>11</td>\n",
              "      <td>8</td>\n",
              "      <td>2013</td>\n",
              "      <td>16</td>\n",
              "      <td>7</td>\n",
              "      <td>1</td>\n",
              "      <td>1</td>\n",
              "      <td>62030</td>\n",
              "      <td>1</td>\n",
              "      <td>6</td>\n",
              "    </tr>\n",
              "    <tr>\n",
              "      <th>4</th>\n",
              "      <td>21</td>\n",
              "      <td>8</td>\n",
              "      <td>2013</td>\n",
              "      <td>22</td>\n",
              "      <td>7</td>\n",
              "      <td>0</td>\n",
              "      <td>0</td>\n",
              "      <td>62030</td>\n",
              "      <td>1</td>\n",
              "      <td>6</td>\n",
              "    </tr>\n",
              "    <tr>\n",
              "      <th>...</th>\n",
              "      <td>...</td>\n",
              "      <td>...</td>\n",
              "      <td>...</td>\n",
              "      <td>...</td>\n",
              "      <td>...</td>\n",
              "      <td>...</td>\n",
              "      <td>...</td>\n",
              "      <td>...</td>\n",
              "      <td>...</td>\n",
              "      <td>...</td>\n",
              "    </tr>\n",
              "    <tr>\n",
              "      <th>49995</th>\n",
              "      <td>10</td>\n",
              "      <td>4</td>\n",
              "      <td>2017</td>\n",
              "      <td>19</td>\n",
              "      <td>11</td>\n",
              "      <td>0</td>\n",
              "      <td>0</td>\n",
              "      <td>13065</td>\n",
              "      <td>5</td>\n",
              "      <td>6</td>\n",
              "    </tr>\n",
              "    <tr>\n",
              "      <th>49996</th>\n",
              "      <td>17</td>\n",
              "      <td>4</td>\n",
              "      <td>2017</td>\n",
              "      <td>9</td>\n",
              "      <td>6</td>\n",
              "      <td>0</td>\n",
              "      <td>0</td>\n",
              "      <td>47200</td>\n",
              "      <td>2</td>\n",
              "      <td>1</td>\n",
              "    </tr>\n",
              "    <tr>\n",
              "      <th>49997</th>\n",
              "      <td>6</td>\n",
              "      <td>5</td>\n",
              "      <td>2017</td>\n",
              "      <td>0</td>\n",
              "      <td>24</td>\n",
              "      <td>1</td>\n",
              "      <td>0</td>\n",
              "      <td>24460</td>\n",
              "      <td>5</td>\n",
              "      <td>9</td>\n",
              "    </tr>\n",
              "    <tr>\n",
              "      <th>49998</th>\n",
              "      <td>17</td>\n",
              "      <td>3</td>\n",
              "      <td>2017</td>\n",
              "      <td>13</td>\n",
              "      <td>21</td>\n",
              "      <td>0</td>\n",
              "      <td>1</td>\n",
              "      <td>33045</td>\n",
              "      <td>2</td>\n",
              "      <td>3</td>\n",
              "    </tr>\n",
              "    <tr>\n",
              "      <th>49999</th>\n",
              "      <td>4</td>\n",
              "      <td>3</td>\n",
              "      <td>2017</td>\n",
              "      <td>18</td>\n",
              "      <td>18</td>\n",
              "      <td>1</td>\n",
              "      <td>0</td>\n",
              "      <td>32955</td>\n",
              "      <td>3</td>\n",
              "      <td>1</td>\n",
              "    </tr>\n",
              "  </tbody>\n",
              "</table>\n",
              "<p>50000 rows × 10 columns</p>\n",
              "</div>"
            ],
            "text/plain": [
              "       DATE  MONTH  YEAR  ...  POPULATION OF AREA  KNOWLEDGE OF HOUSE OWNER  TYPE\n",
              "0        22      6  2013  ...               62030                         2     6\n",
              "1         5      7  2013  ...               62030                         3     6\n",
              "2        31      7  2013  ...               62030                         3     6\n",
              "3        11      8  2013  ...               62030                         1     6\n",
              "4        21      8  2013  ...               62030                         1     6\n",
              "...     ...    ...   ...  ...                 ...                       ...   ...\n",
              "49995    10      4  2017  ...               13065                         5     6\n",
              "49996    17      4  2017  ...               47200                         2     1\n",
              "49997     6      5  2017  ...               24460                         5     9\n",
              "49998    17      3  2017  ...               33045                         2     3\n",
              "49999     4      3  2017  ...               32955                         3     1\n",
              "\n",
              "[50000 rows x 10 columns]"
            ]
          },
          "metadata": {
            "tags": []
          },
          "execution_count": 4
        }
      ]
    },
    {
      "cell_type": "code",
      "metadata": {
        "colab": {
          "base_uri": "https://localhost:8080/"
        },
        "id": "Y-lRohYDItGj",
        "outputId": "db3a0ddf-620a-4b9b-d7a1-a9e1ae788474"
      },
      "source": [
        "X=df[['DATE','MONTH','YEAR','TIME','AREA','NEAR TO MAIN ROAD OR NOT','NEAR TO COMMERCIAL CENTRE OR NOT','POPULATION OF AREA','KNOWLEDGE OF HOUSE OWNER']]  # Features\n",
        "y=df['TYPE']  # Labels\n",
        "\n",
        "# Split dataset into training set and test set\n",
        "X_train, X_test, y_train, y_test = train_test_split(X, y, test_size=0.3)\n",
        "\n",
        "clf=RandomForestClassifier(n_estimators=1500)\n",
        "\n",
        "#Train the model\n",
        "clf.fit(X_train,y_train)\n",
        "\n",
        "y_pred=clf.predict(X_test)\n",
        "\n",
        "print(\"Accuracy:\",metrics.accuracy_score(y_test, y_pred))\n"
      ],
      "execution_count": null,
      "outputs": [
        {
          "output_type": "stream",
          "text": [
            "Accuracy: 0.4232666666666667\n"
          ],
          "name": "stdout"
        }
      ]
    },
    {
      "cell_type": "code",
      "metadata": {
        "id": "JaXfO1rAKlHA"
      },
      "source": [
        "scaler = MinMaxScaler(feature_range=(0, 1))\n",
        "normalizedData = scaler.fit_transform(df)"
      ],
      "execution_count": null,
      "outputs": []
    },
    {
      "cell_type": "code",
      "metadata": {
        "id": "ve0sy0-RPTP6"
      },
      "source": [
        "from sklearn import model_selection\n",
        "from sklearn.ensemble import BaggingClassifier\n",
        "from sklearn.tree import DecisionTreeClassifier"
      ],
      "execution_count": null,
      "outputs": []
    },
    {
      "cell_type": "code",
      "metadata": {
        "id": "_qNo-vydPWXc"
      },
      "source": [
        "X = normalizedData[:,0:9]\n",
        "Y = normalizedData[:,9]"
      ],
      "execution_count": null,
      "outputs": []
    },
    {
      "cell_type": "code",
      "metadata": {
        "colab": {
          "base_uri": "https://localhost:8080/"
        },
        "id": "4fJ68FguPbmC",
        "outputId": "96f3b980-1f9c-470b-d1da-94be842a4e1e"
      },
      "source": [
        "from sklearn import model_selection\n",
        "\n",
        "kfold = model_selection.KFold(n_splits=10, random_state=7)"
      ],
      "execution_count": null,
      "outputs": [
        {
          "output_type": "stream",
          "text": [
            "/usr/local/lib/python3.6/dist-packages/sklearn/model_selection/_split.py:296: FutureWarning: Setting a random_state has no effect since shuffle is False. This will raise an error in 0.24. You should leave random_state to its default (None), or set shuffle=True.\n",
            "  FutureWarning\n"
          ],
          "name": "stderr"
        }
      ]
    },
    {
      "cell_type": "code",
      "metadata": {
        "colab": {
          "base_uri": "https://localhost:8080/"
        },
        "id": "7ZFkxMwkPfA_",
        "outputId": "f20f2490-4768-4754-e8bf-65ae2a24ab76"
      },
      "source": [
        "from sklearn.ensemble import AdaBoostClassifier\n",
        "seed = 7\n",
        "num_trees = 20\n",
        "kfold = model_selection.KFold(n_splits=10, random_state=seed)\n",
        "model = AdaBoostClassifier(n_estimators=num_trees, random_state=seed)\n",
        "results = model_selection.cross_val_score(clf, X, Y, cv=kfold)\n",
        "print(\"Accuracy : \",results.mean())"
      ],
      "execution_count": null,
      "outputs": [
        {
          "output_type": "stream",
          "text": [
            "Accuracy :  nan\n"
          ],
          "name": "stdout"
        },
        {
          "output_type": "stream",
          "text": [
            "/usr/local/lib/python3.6/dist-packages/sklearn/model_selection/_split.py:296: FutureWarning: Setting a random_state has no effect since shuffle is False. This will raise an error in 0.24. You should leave random_state to its default (None), or set shuffle=True.\n",
            "  FutureWarning\n",
            "/usr/local/lib/python3.6/dist-packages/sklearn/model_selection/_validation.py:536: FitFailedWarning: Estimator fit failed. The score on this train-test partition for these parameters will be set to nan. Details: \n",
            "ValueError: Unknown label type: 'continuous'\n",
            "\n",
            "  FitFailedWarning)\n",
            "/usr/local/lib/python3.6/dist-packages/sklearn/model_selection/_validation.py:536: FitFailedWarning: Estimator fit failed. The score on this train-test partition for these parameters will be set to nan. Details: \n",
            "ValueError: Unknown label type: 'continuous'\n",
            "\n",
            "  FitFailedWarning)\n",
            "/usr/local/lib/python3.6/dist-packages/sklearn/model_selection/_validation.py:536: FitFailedWarning: Estimator fit failed. The score on this train-test partition for these parameters will be set to nan. Details: \n",
            "ValueError: Unknown label type: 'continuous'\n",
            "\n",
            "  FitFailedWarning)\n",
            "/usr/local/lib/python3.6/dist-packages/sklearn/model_selection/_validation.py:536: FitFailedWarning: Estimator fit failed. The score on this train-test partition for these parameters will be set to nan. Details: \n",
            "ValueError: Unknown label type: 'continuous'\n",
            "\n",
            "  FitFailedWarning)\n",
            "/usr/local/lib/python3.6/dist-packages/sklearn/model_selection/_validation.py:536: FitFailedWarning: Estimator fit failed. The score on this train-test partition for these parameters will be set to nan. Details: \n",
            "ValueError: Unknown label type: 'continuous'\n",
            "\n",
            "  FitFailedWarning)\n",
            "/usr/local/lib/python3.6/dist-packages/sklearn/model_selection/_validation.py:536: FitFailedWarning: Estimator fit failed. The score on this train-test partition for these parameters will be set to nan. Details: \n",
            "ValueError: Unknown label type: 'continuous'\n",
            "\n",
            "  FitFailedWarning)\n",
            "/usr/local/lib/python3.6/dist-packages/sklearn/model_selection/_validation.py:536: FitFailedWarning: Estimator fit failed. The score on this train-test partition for these parameters will be set to nan. Details: \n",
            "ValueError: Unknown label type: 'continuous'\n",
            "\n",
            "  FitFailedWarning)\n",
            "/usr/local/lib/python3.6/dist-packages/sklearn/model_selection/_validation.py:536: FitFailedWarning: Estimator fit failed. The score on this train-test partition for these parameters will be set to nan. Details: \n",
            "ValueError: Unknown label type: 'continuous'\n",
            "\n",
            "  FitFailedWarning)\n",
            "/usr/local/lib/python3.6/dist-packages/sklearn/model_selection/_validation.py:536: FitFailedWarning: Estimator fit failed. The score on this train-test partition for these parameters will be set to nan. Details: \n",
            "ValueError: Unknown label type: 'continuous'\n",
            "\n",
            "  FitFailedWarning)\n",
            "/usr/local/lib/python3.6/dist-packages/sklearn/model_selection/_validation.py:536: FitFailedWarning: Estimator fit failed. The score on this train-test partition for these parameters will be set to nan. Details: \n",
            "ValueError: Unknown label type: 'continuous'\n",
            "\n",
            "  FitFailedWarning)\n"
          ],
          "name": "stderr"
        }
      ]
    },
    {
      "cell_type": "code",
      "metadata": {
        "colab": {
          "base_uri": "https://localhost:8080/"
        },
        "id": "qdSWeGqLPkGI",
        "outputId": "8bbc8e52-68d3-46ac-dfbc-4040efef0d2d"
      },
      "source": [
        "# Voting Ensemble for Classification\n",
        "from sklearn.linear_model import LogisticRegression\n",
        "from sklearn.tree import DecisionTreeClassifier\n",
        "from sklearn.svm import SVC\n",
        "from sklearn.ensemble import VotingClassifier\n",
        "from sklearn.neighbors import KNeighborsClassifier\n",
        "\n",
        "kfold = model_selection.KFold(n_splits=10, random_state=seed)\n",
        "\n",
        "estimators = []\n",
        "model1 = RandomForestClassifier()\n",
        "estimators.append(('clf', model1))\n",
        "model3 = KNeighborsClassifier()\n",
        "estimators.append(('knn',model3))\n",
        "\n",
        "# create the ensemble model\n",
        "ensemble = VotingClassifier(estimators)\n",
        "results = model_selection.cross_val_score(ensemble, X, Y, cv=kfold)\n",
        "print(\"Accuracy : \",results.mean())"
      ],
      "execution_count": null,
      "outputs": [
        {
          "output_type": "stream",
          "text": [
            "Accuracy :  nan\n"
          ],
          "name": "stdout"
        },
        {
          "output_type": "stream",
          "text": [
            "/usr/local/lib/python3.6/dist-packages/sklearn/model_selection/_split.py:296: FutureWarning: Setting a random_state has no effect since shuffle is False. This will raise an error in 0.24. You should leave random_state to its default (None), or set shuffle=True.\n",
            "  FutureWarning\n",
            "/usr/local/lib/python3.6/dist-packages/sklearn/model_selection/_validation.py:536: FitFailedWarning: Estimator fit failed. The score on this train-test partition for these parameters will be set to nan. Details: \n",
            "ValueError: Unknown label type: 'continuous'\n",
            "\n",
            "  FitFailedWarning)\n"
          ],
          "name": "stderr"
        }
      ]
    },
    {
      "cell_type": "code",
      "metadata": {
        "id": "SJ6hikTfPyzn"
      },
      "source": [
        "pre_y = df['TYPE']\n",
        "pre_x = df.drop('TYPE', axis=1)"
      ],
      "execution_count": null,
      "outputs": []
    },
    {
      "cell_type": "code",
      "metadata": {
        "id": "k54ZRTCPQF6b"
      },
      "source": [
        "normalized_X = preprocessing.normalize(pre_x)"
      ],
      "execution_count": null,
      "outputs": []
    },
    {
      "cell_type": "code",
      "metadata": {
        "id": "Ur08GtI6QLXo"
      },
      "source": [
        "import numpy as np\n",
        "from sklearn.model_selection import train_test_split\n",
        "from sklearn.metrics import accuracy_score, confusion_matrix\n",
        "from sklearn.preprocessing import MinMaxScaler\n",
        "from keras import Sequential\n",
        "from keras.layers import Dense\n",
        "import tensorflow as tf\n",
        "\n",
        "df = df.dropna()\n",
        "\n",
        "sc = MinMaxScaler()\n",
        "X = sc.fit_transform(normalized_X)\n",
        "\n",
        "X_train, X_test, y_train, y_test = train_test_split(X, pre_y, test_size=0.2, shuffle= True)"
      ],
      "execution_count": null,
      "outputs": []
    },
    {
      "cell_type": "code",
      "source": [
        "classifier = Sequential()\n",
        "classifier.add(Dense(1000, activation='relu', kernel_initializer='random_normal', input_dim=X_test.shape[1]))\n",
        "classifier.add(Dense(400, activation='relu', kernel_initializer='random_normal'))\n",
        "classifier.add(Dense(200, activation='relu', kernel_initializer='random_normal'))\n",
        "classifier.add(Dense(100, activation='relu', kernel_initializer='random_normal'))\n",
        "classifier.add(Dense(50, activation='relu', kernel_initializer='random_normal'))\n",
        "classifier.add(Dense(25, activation='relu', kernel_initializer='random_normal'))\n",
        "classifier.add(Dense(10, activation='relu', kernel_initializer='random_normal'))\n",
        "classifier.add(Dense(1, activation='sigmoid', kernel_initializer='random_normal'))\n",
        "classifier.compile(optimizer = 'adam', loss='binary_crossentropy', metrics = ['accuracy'])\n",
        "classifier.fit(X_train,y_train,batch_size=10, epochs=100, verbose=2)\n",
        "eval_model = classifier.evaluate(X_train, y_train)\n",
        "eval_model"
      ],
      "metadata": {
        "id": "T7fGpgtFQWRv"
      },
      "execution_count": null,
      "outputs": []
    },
    {
      "cell_type": "code",
      "metadata": {
        "colab": {
          "base_uri": "https://localhost:8080/"
        },
        "id": "KXMIATC2QmU9",
        "outputId": "5c90e8a8-8e4a-40fa-db24-14288eead170"
      },
      "source": [
        "classifier2 = Sequential()\n",
        "classifier2.add(Dense(10, activation='relu', kernel_initializer='random_normal', input_dim=X_test.shape[1]))\n",
        "classifier2.add(Dense(1, activation='sigmoid', kernel_initializer='random_normal'))\n",
        "classifier2.compile(optimizer = 'adam', loss='binary_crossentropy', metrics = ['accuracy'])\n",
        "classifier2.fit(X_train,y_train,batch_size=10, epochs=100, verbose=2)\n",
        "eval_model = classifier2.evaluate(X_train, y_train)\n",
        "eval_model"
      ],
      "execution_count": null,
      "outputs": [
        {
          "output_type": "stream",
          "text": [
            "Epoch 1/100\n",
            "4000/4000 - 3s - loss: -5.8250e+02 - accuracy: 0.1254\n",
            "Epoch 2/100\n",
            "4000/4000 - 3s - loss: -3.3408e+03 - accuracy: 0.1256\n",
            "Epoch 3/100\n",
            "4000/4000 - 3s - loss: -7.9860e+03 - accuracy: 0.1256\n",
            "Epoch 4/100\n",
            "4000/4000 - 3s - loss: -1.4393e+04 - accuracy: 0.1256\n",
            "Epoch 5/100\n",
            "4000/4000 - 3s - loss: -2.2519e+04 - accuracy: 0.1256\n",
            "Epoch 6/100\n",
            "4000/4000 - 4s - loss: -3.2337e+04 - accuracy: 0.1256\n",
            "Epoch 7/100\n",
            "4000/4000 - 4s - loss: -4.3846e+04 - accuracy: 0.1256\n",
            "Epoch 8/100\n",
            "4000/4000 - 4s - loss: -5.7022e+04 - accuracy: 0.1256\n",
            "Epoch 9/100\n",
            "4000/4000 - 3s - loss: -7.1904e+04 - accuracy: 0.1256\n",
            "Epoch 10/100\n",
            "4000/4000 - 3s - loss: -8.8464e+04 - accuracy: 0.1256\n",
            "Epoch 11/100\n",
            "4000/4000 - 3s - loss: -1.0664e+05 - accuracy: 0.1256\n",
            "Epoch 12/100\n",
            "4000/4000 - 3s - loss: -1.2651e+05 - accuracy: 0.1256\n",
            "Epoch 13/100\n",
            "4000/4000 - 3s - loss: -1.4808e+05 - accuracy: 0.1256\n",
            "Epoch 14/100\n",
            "4000/4000 - 3s - loss: -1.7127e+05 - accuracy: 0.1256\n",
            "Epoch 15/100\n",
            "4000/4000 - 3s - loss: -1.9607e+05 - accuracy: 0.1256\n",
            "Epoch 16/100\n",
            "4000/4000 - 3s - loss: -2.2251e+05 - accuracy: 0.1256\n",
            "Epoch 17/100\n",
            "4000/4000 - 3s - loss: -2.5068e+05 - accuracy: 0.1256\n",
            "Epoch 18/100\n",
            "4000/4000 - 3s - loss: -2.8047e+05 - accuracy: 0.1256\n",
            "Epoch 19/100\n",
            "4000/4000 - 3s - loss: -3.1181e+05 - accuracy: 0.1256\n",
            "Epoch 20/100\n",
            "4000/4000 - 3s - loss: -3.4490e+05 - accuracy: 0.1256\n",
            "Epoch 21/100\n",
            "4000/4000 - 3s - loss: -3.7961e+05 - accuracy: 0.1256\n",
            "Epoch 22/100\n",
            "4000/4000 - 3s - loss: -4.1592e+05 - accuracy: 0.1256\n",
            "Epoch 23/100\n",
            "4000/4000 - 3s - loss: -4.5398e+05 - accuracy: 0.1256\n",
            "Epoch 24/100\n",
            "4000/4000 - 3s - loss: -4.9360e+05 - accuracy: 0.1256\n",
            "Epoch 25/100\n",
            "4000/4000 - 3s - loss: -5.3485e+05 - accuracy: 0.1256\n",
            "Epoch 26/100\n",
            "4000/4000 - 3s - loss: -5.7778e+05 - accuracy: 0.1256\n",
            "Epoch 27/100\n",
            "4000/4000 - 3s - loss: -6.2232e+05 - accuracy: 0.1256\n",
            "Epoch 28/100\n",
            "4000/4000 - 3s - loss: -6.6846e+05 - accuracy: 0.1256\n",
            "Epoch 29/100\n",
            "4000/4000 - 3s - loss: -7.1644e+05 - accuracy: 0.1256\n",
            "Epoch 30/100\n",
            "4000/4000 - 3s - loss: -7.6588e+05 - accuracy: 0.1256\n",
            "Epoch 31/100\n",
            "4000/4000 - 3s - loss: -8.1702e+05 - accuracy: 0.1256\n",
            "Epoch 32/100\n",
            "4000/4000 - 3s - loss: -8.6972e+05 - accuracy: 0.1256\n",
            "Epoch 33/100\n",
            "4000/4000 - 3s - loss: -9.2419e+05 - accuracy: 0.1256\n",
            "Epoch 34/100\n",
            "4000/4000 - 3s - loss: -9.8027e+05 - accuracy: 0.1256\n",
            "Epoch 35/100\n",
            "4000/4000 - 3s - loss: -1.0379e+06 - accuracy: 0.1256\n",
            "Epoch 36/100\n",
            "4000/4000 - 3s - loss: -1.0972e+06 - accuracy: 0.1256\n",
            "Epoch 37/100\n",
            "4000/4000 - 3s - loss: -1.1581e+06 - accuracy: 0.1256\n",
            "Epoch 38/100\n",
            "4000/4000 - 3s - loss: -1.2206e+06 - accuracy: 0.1256\n",
            "Epoch 39/100\n",
            "4000/4000 - 3s - loss: -1.2849e+06 - accuracy: 0.1256\n",
            "Epoch 40/100\n",
            "4000/4000 - 3s - loss: -1.3508e+06 - accuracy: 0.1256\n",
            "Epoch 41/100\n",
            "4000/4000 - 3s - loss: -1.4182e+06 - accuracy: 0.1256\n",
            "Epoch 42/100\n",
            "4000/4000 - 3s - loss: -1.4874e+06 - accuracy: 0.1256\n",
            "Epoch 43/100\n",
            "4000/4000 - 3s - loss: -1.5579e+06 - accuracy: 0.1256\n",
            "Epoch 44/100\n",
            "4000/4000 - 3s - loss: -1.6305e+06 - accuracy: 0.1256\n",
            "Epoch 45/100\n",
            "4000/4000 - 3s - loss: -1.7045e+06 - accuracy: 0.1256\n",
            "Epoch 46/100\n",
            "4000/4000 - 3s - loss: -1.7802e+06 - accuracy: 0.1256\n",
            "Epoch 47/100\n",
            "4000/4000 - 3s - loss: -1.8574e+06 - accuracy: 0.1256\n",
            "Epoch 48/100\n",
            "4000/4000 - 3s - loss: -1.9364e+06 - accuracy: 0.1256\n",
            "Epoch 49/100\n",
            "4000/4000 - 3s - loss: -2.0170e+06 - accuracy: 0.1256\n",
            "Epoch 50/100\n",
            "4000/4000 - 3s - loss: -2.0991e+06 - accuracy: 0.1256\n",
            "Epoch 51/100\n",
            "4000/4000 - 3s - loss: -2.1831e+06 - accuracy: 0.1256\n",
            "Epoch 52/100\n",
            "4000/4000 - 3s - loss: -2.2685e+06 - accuracy: 0.1256\n",
            "Epoch 53/100\n",
            "4000/4000 - 3s - loss: -2.3554e+06 - accuracy: 0.1256\n",
            "Epoch 54/100\n",
            "4000/4000 - 3s - loss: -2.4442e+06 - accuracy: 0.1256\n",
            "Epoch 55/100\n",
            "4000/4000 - 3s - loss: -2.5346e+06 - accuracy: 0.1256\n",
            "Epoch 56/100\n",
            "4000/4000 - 3s - loss: -2.6267e+06 - accuracy: 0.1256\n",
            "Epoch 57/100\n",
            "4000/4000 - 3s - loss: -2.7203e+06 - accuracy: 0.1256\n",
            "Epoch 58/100\n",
            "4000/4000 - 3s - loss: -2.8155e+06 - accuracy: 0.1256\n",
            "Epoch 59/100\n",
            "4000/4000 - 3s - loss: -2.9123e+06 - accuracy: 0.1256\n",
            "Epoch 60/100\n",
            "4000/4000 - 3s - loss: -3.0108e+06 - accuracy: 0.1256\n",
            "Epoch 61/100\n",
            "4000/4000 - 3s - loss: -3.1109e+06 - accuracy: 0.1256\n",
            "Epoch 62/100\n",
            "4000/4000 - 3s - loss: -3.2129e+06 - accuracy: 0.1256\n",
            "Epoch 63/100\n",
            "4000/4000 - 3s - loss: -3.3164e+06 - accuracy: 0.1256\n",
            "Epoch 64/100\n",
            "4000/4000 - 3s - loss: -3.4216e+06 - accuracy: 0.1256\n",
            "Epoch 65/100\n",
            "4000/4000 - 3s - loss: -3.5281e+06 - accuracy: 0.1256\n",
            "Epoch 66/100\n",
            "4000/4000 - 3s - loss: -3.6364e+06 - accuracy: 0.1256\n",
            "Epoch 67/100\n",
            "4000/4000 - 3s - loss: -3.7465e+06 - accuracy: 0.1256\n",
            "Epoch 68/100\n",
            "4000/4000 - 3s - loss: -3.8579e+06 - accuracy: 0.1256\n",
            "Epoch 69/100\n",
            "4000/4000 - 3s - loss: -3.9712e+06 - accuracy: 0.1256\n",
            "Epoch 70/100\n",
            "4000/4000 - 3s - loss: -4.0860e+06 - accuracy: 0.1256\n",
            "Epoch 71/100\n",
            "4000/4000 - 3s - loss: -4.2023e+06 - accuracy: 0.1256\n",
            "Epoch 72/100\n",
            "4000/4000 - 4s - loss: -4.3204e+06 - accuracy: 0.1256\n",
            "Epoch 73/100\n",
            "4000/4000 - 4s - loss: -4.4398e+06 - accuracy: 0.1256\n",
            "Epoch 74/100\n",
            "4000/4000 - 3s - loss: -4.5612e+06 - accuracy: 0.1256\n",
            "Epoch 75/100\n",
            "4000/4000 - 3s - loss: -4.6843e+06 - accuracy: 0.1256\n",
            "Epoch 76/100\n",
            "4000/4000 - 3s - loss: -4.8088e+06 - accuracy: 0.1256\n",
            "Epoch 77/100\n",
            "4000/4000 - 3s - loss: -4.9351e+06 - accuracy: 0.1256\n",
            "Epoch 78/100\n",
            "4000/4000 - 3s - loss: -5.0631e+06 - accuracy: 0.1256\n",
            "Epoch 79/100\n",
            "4000/4000 - 4s - loss: -5.1926e+06 - accuracy: 0.1256\n",
            "Epoch 80/100\n",
            "4000/4000 - 3s - loss: -5.3239e+06 - accuracy: 0.1256\n",
            "Epoch 81/100\n",
            "4000/4000 - 3s - loss: -5.4565e+06 - accuracy: 0.1256\n",
            "Epoch 82/100\n",
            "4000/4000 - 3s - loss: -5.5909e+06 - accuracy: 0.1256\n",
            "Epoch 83/100\n",
            "4000/4000 - 3s - loss: -5.7268e+06 - accuracy: 0.1256\n",
            "Epoch 84/100\n",
            "4000/4000 - 3s - loss: -5.8645e+06 - accuracy: 0.1256\n",
            "Epoch 85/100\n",
            "4000/4000 - 3s - loss: -6.0036e+06 - accuracy: 0.1256\n",
            "Epoch 86/100\n",
            "4000/4000 - 3s - loss: -6.1446e+06 - accuracy: 0.1256\n",
            "Epoch 87/100\n",
            "4000/4000 - 3s - loss: -6.2870e+06 - accuracy: 0.1256\n",
            "Epoch 88/100\n",
            "4000/4000 - 3s - loss: -6.4311e+06 - accuracy: 0.1256\n",
            "Epoch 89/100\n",
            "4000/4000 - 3s - loss: -6.5771e+06 - accuracy: 0.1256\n",
            "Epoch 90/100\n",
            "4000/4000 - 3s - loss: -6.7243e+06 - accuracy: 0.1256\n",
            "Epoch 91/100\n",
            "4000/4000 - 3s - loss: -6.8734e+06 - accuracy: 0.1256\n",
            "Epoch 92/100\n",
            "4000/4000 - 3s - loss: -7.0242e+06 - accuracy: 0.1256\n",
            "Epoch 93/100\n",
            "4000/4000 - 3s - loss: -7.1767e+06 - accuracy: 0.1256\n",
            "Epoch 94/100\n",
            "4000/4000 - 3s - loss: -7.3305e+06 - accuracy: 0.1256\n",
            "Epoch 95/100\n",
            "4000/4000 - 3s - loss: -7.4863e+06 - accuracy: 0.1256\n",
            "Epoch 96/100\n",
            "4000/4000 - 3s - loss: -7.6435e+06 - accuracy: 0.1256\n",
            "Epoch 97/100\n",
            "4000/4000 - 4s - loss: -7.8022e+06 - accuracy: 0.1256\n",
            "Epoch 98/100\n",
            "4000/4000 - 4s - loss: -7.9625e+06 - accuracy: 0.1256\n",
            "Epoch 99/100\n",
            "4000/4000 - 3s - loss: -8.1246e+06 - accuracy: 0.1256\n",
            "Epoch 100/100\n",
            "4000/4000 - 3s - loss: -8.2886e+06 - accuracy: 0.1256\n",
            "1250/1250 [==============================] - 1s 818us/step - loss: -8370879.5000 - accuracy: 0.1256\n"
          ],
          "name": "stdout"
        },
        {
          "output_type": "execute_result",
          "data": {
            "text/plain": [
              "[-8370879.5, 0.12559999525547028]"
            ]
          },
          "metadata": {
            "tags": []
          },
          "execution_count": 19
        }
      ]
    }
  ]
}